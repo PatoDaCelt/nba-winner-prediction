{
 "cells": [
  {
   "cell_type": "code",
   "execution_count": 1,
   "id": "52b917ab",
   "metadata": {},
   "outputs": [],
   "source": [
    "from nba_api.stats.endpoints import leaguegamefinder\n",
    "import pandas as pd\n",
    "import os"
   ]
  },
  {
   "cell_type": "code",
   "execution_count": 2,
   "id": "766d6953",
   "metadata": {},
   "outputs": [],
   "source": [
    "# Crear objeto de búsqueda\n",
    "gamefinder = leaguegamefinder.LeagueGameFinder(\n",
    "    season_nullable=\"2025-26\",  # Temporada actual\n",
    "    season_type_nullable=\"Regular Season\" #Temporada regular\n",
    ")"
   ]
  },
  {
   "cell_type": "markdown",
   "id": "6c124116",
   "metadata": {},
   "source": [
    "RECOLECCIÓN DE LOS DATOS DE NBA_API\n",
    "\n",
    "Columnas importantes:\n",
    "\n",
    "    -TEAM_ABBREVIATION\n",
    "\n",
    "    -PTS, REB, AST, FG_PCT, FT_PCT, PLUS_MINUS\n",
    "\n",
    "    -GAME_DATE\n",
    "\n",
    "    -WL (Win/Loss)"
   ]
  },
  {
   "cell_type": "code",
   "execution_count": null,
   "id": "e3faacbe",
   "metadata": {},
   "outputs": [
    {
     "name": "stdout",
     "output_type": "stream",
     "text": [
      "Se guardaron 118 partidos recientes en data/raw/nba_games.csv\n"
     ]
    }
   ],
   "source": [
    "# Crear carpeta si no existe\n",
    "os.makedirs(\"../data/raw\", exist_ok=True)\n",
    "\n",
    "# Obtener DataFrame de los partidos\n",
    "games = gamefinder.get_data_frames()[0]\n",
    "\n",
    "# Ordenar por fecha\n",
    "games[\"GAME_DATE\"] = pd.to_datetime(games[\"GAME_DATE\"])\n",
    "games = games.sort_values(\"GAME_DATE\", ascending=False)\n",
    "\n",
    "# Guardar CSV\n",
    "games.to_csv(\"../data/raw/test_nba_games.csv\", index=False)\n",
    "print(f\"Se guardaron {len(games)} partidos recientes en data/raw/test_nba_games.csv\")"
   ]
  }
 ],
 "metadata": {
  "kernelspec": {
   "display_name": "nba-venv",
   "language": "python",
   "name": "python3"
  },
  "language_info": {
   "codemirror_mode": {
    "name": "ipython",
    "version": 3
   },
   "file_extension": ".py",
   "mimetype": "text/x-python",
   "name": "python",
   "nbconvert_exporter": "python",
   "pygments_lexer": "ipython3",
   "version": "3.12.3"
  }
 },
 "nbformat": 4,
 "nbformat_minor": 5
}
