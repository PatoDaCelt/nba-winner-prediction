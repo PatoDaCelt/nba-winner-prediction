{
 "cells": [
  {
   "cell_type": "code",
   "execution_count": 1,
   "id": "8beba5f3",
   "metadata": {},
   "outputs": [],
   "source": [
    "import pandas as pd\n",
    "import os"
   ]
  },
  {
   "cell_type": "markdown",
   "id": "6ab46c2c",
   "metadata": {},
   "source": [
    "LIMPIEZA Y FEATURE\n",
    "\n",
    "    Convierte la columna WL a 1 (Win) / 0 (Loss).\n",
    "\n",
    "    Calcula medias móviles de los últimos 5 partidos por equipo (puntos, rebotes, asistencias, etc.).\n",
    "\n",
    "    Agrega si el equipo juega en casa o fuera."
   ]
  },
  {
   "cell_type": "code",
   "execution_count": 3,
   "id": "85632044",
   "metadata": {},
   "outputs": [],
   "source": [
    "#Cargar el csv a DataFrame\n",
    "df = pd.read_csv(\"../data/raw/nba_games.csv\")\n",
    "\n",
    "#Convertir Win/Loss a 1/0\n",
    "df[\"win\"] = df[\"WL\"].apply(lambda x: 1 if x == \"W\" else 0)\n",
    "\n",
    "# Crear carpeta si no existe\n",
    "os.makedirs(\"../data/clean\", exist_ok=True)\n",
    "\n",
    "df.to_csv(\"../data/clean/test_nba_clean.csv\", index=False)\n"
   ]
  }
 ],
 "metadata": {
  "kernelspec": {
   "display_name": "nba-venv",
   "language": "python",
   "name": "python3"
  },
  "language_info": {
   "codemirror_mode": {
    "name": "ipython",
    "version": 3
   },
   "file_extension": ".py",
   "mimetype": "text/x-python",
   "name": "python",
   "nbconvert_exporter": "python",
   "pygments_lexer": "ipython3",
   "version": "3.12.3"
  }
 },
 "nbformat": 4,
 "nbformat_minor": 5
}
