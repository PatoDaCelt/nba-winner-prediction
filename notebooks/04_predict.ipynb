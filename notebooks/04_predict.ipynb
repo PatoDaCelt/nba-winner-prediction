{
 "cells": [
  {
   "cell_type": "markdown",
   "id": "1e3cce06",
   "metadata": {},
   "source": [
    "Predicción de victoria\n",
    "\n",
    "    Este script cargará el modelo entrenado y calculará la probabilidad de victoria de cada equipo, después guardará el resultado para Power BI."
   ]
  },
  {
   "cell_type": "code",
   "execution_count": 3,
   "id": "752c6ede",
   "metadata": {},
   "outputs": [],
   "source": [
    "import pandas as pd\n",
    "import joblib\n",
    "import os"
   ]
  },
  {
   "cell_type": "code",
   "execution_count": 11,
   "id": "f62d1759",
   "metadata": {},
   "outputs": [],
   "source": [
    "data_path=\"../data/clean/nba_clean.csv\"\n",
    "model_path=\"../models/nba_winner_predict_model.pkl\"\n",
    "output_path=\"../data/clean/predictions.csv\""
   ]
  },
  {
   "cell_type": "code",
   "execution_count": 12,
   "id": "ace0c925",
   "metadata": {},
   "outputs": [],
   "source": [
    "# Cargar modelo y datos\n",
    "model = joblib.load(model_path)\n",
    "df = pd.read_csv(data_path)"
   ]
  },
  {
   "cell_type": "code",
   "execution_count": 14,
   "id": "ada4a878",
   "metadata": {},
   "outputs": [],
   "source": [
    "# Campos usados en el entrenamiento\n",
    "features = [\n",
    "    \"PTS_ROLL5\", \"REB_ROLL5\", \"AST_ROLL5\",\n",
    "     \"FG_PCT_ROLL5\", \"FT_PCT_ROLL5\", \"PLUS_MINUS_ROLL5\", \"HOME\"\n",
    "]\n",
    "    \n",
    "# Calcular probabilidad de victoria\n",
    "df[\"WIN_PROB\"] = model.predict_proba(df[features])[:, 1]\n",
    "\n",
    "# Salida simplificada\n",
    "predictions = df[[\n",
    "    \"GAME_DATE\", \"TEAM_ABBREVIATION\", \"MATCHUP\", \"HOME\", \"WIN_PROB\", \"WIN\"\n",
    "]].copy()"
   ]
  },
  {
   "cell_type": "code",
   "execution_count": 15,
   "id": "96f9d6dd",
   "metadata": {},
   "outputs": [
    {
     "name": "stdout",
     "output_type": "stream",
     "text": [
      "\u001b[32m Predicciones guardadas en ../data/clean/predictions.csv\u001b[0m\n"
     ]
    }
   ],
   "source": [
    "# Guardar CSV de la salida\n",
    "os.makedirs(os.path.dirname(output_path), exist_ok=True)\n",
    "predictions.to_csv(output_path, index=False)\n",
    "print(f\"\\033[32m Predicciones guardadas en {output_path}\\033[0m\")"
   ]
  },
  {
   "cell_type": "code",
   "execution_count": null,
   "id": "6474f421",
   "metadata": {},
   "outputs": [
    {
     "name": "stdout",
     "output_type": "stream",
     "text": [
      "Ejemplo de resultados:\n",
      "     GAME_DATE TEAM_ABBREVIATION      MATCHUP  HOME  WIN_PROB  WIN\n",
      "0   2025-10-22               ATL  ATL vs. TOR     1  0.067500    0\n",
      "1   2025-10-24               ATL    ATL @ ORL     0  0.680455    1\n",
      "2   2025-10-25               ATL  ATL vs. OKC     1  0.053725    0\n",
      "3   2025-10-27               ATL    ATL @ CHI     0  0.040392    0\n",
      "4   2025-10-29               ATL    ATL @ BKN     0  0.077513    1\n",
      "5   2025-10-22               BKN    BKN @ CHA     0  0.060000    0\n",
      "6   2025-10-24               BKN  BKN vs. CLE     1  0.086667    0\n",
      "7   2025-10-26               BKN    BKN @ SAS     0  0.190000    0\n",
      "8   2025-10-27               BKN    BKN @ HOU     0  0.080833    0\n",
      "9   2025-10-29               BKN  BKN vs. ATL     1  0.057500    0\n",
      "10  2025-10-22               BOS  BOS vs. PHI     1  0.207500    0\n",
      "11  2025-10-24               BOS    BOS @ NYK     0  0.029167    0\n",
      "12  2025-10-26               BOS    BOS @ DET     0  0.041225    0\n",
      "13  2025-10-27               BOS    BOS @ NOP     0  0.815000    1\n",
      "14  2025-10-29               BOS  BOS vs. CLE     1  0.833788    1\n",
      "15  2025-10-22               CHA  CHA vs. BKN     1  0.860000    1\n",
      "16  2025-10-25               CHA    CHA @ PHI     0  0.157778    0\n",
      "17  2025-10-26               CHA    CHA @ WAS     0  0.671111    1\n",
      "18  2025-10-28               CHA    CHA @ MIA     0  0.147111    0\n",
      "19  2025-10-22               CHI  CHI vs. DET     1  0.940000    1\n"
     ]
    }
   ],
   "source": [
    "# Mostrar vista previa\n",
    "print(\"Ejemplo de resultados:\")\n",
    "print(predictions.head(20))"
   ]
  }
 ],
 "metadata": {
  "kernelspec": {
   "display_name": "nba-venv",
   "language": "python",
   "name": "python3"
  },
  "language_info": {
   "codemirror_mode": {
    "name": "ipython",
    "version": 3
   },
   "file_extension": ".py",
   "mimetype": "text/x-python",
   "name": "python",
   "nbconvert_exporter": "python",
   "pygments_lexer": "ipython3",
   "version": "3.12.3"
  }
 },
 "nbformat": 4,
 "nbformat_minor": 5
}
